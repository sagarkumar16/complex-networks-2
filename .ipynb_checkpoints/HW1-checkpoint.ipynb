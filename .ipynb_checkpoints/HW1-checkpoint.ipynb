{
 "cells": [
  {
   "cell_type": "code",
   "execution_count": 1,
   "id": "f2175cde",
   "metadata": {},
   "outputs": [],
   "source": [
    "# log-bin a density\n",
    "# log-bin a function"
   ]
  },
  {
   "cell_type": "code",
   "execution_count": 2,
   "id": "e15c2a16",
   "metadata": {},
   "outputs": [],
   "source": [
    "import numpy as np\n",
    "import math \n",
    "import matplotlib.pyplot as plt\n",
    "from collections import defaultdict\n",
    "from statistics import mean\n",
    "from scipy.sparse import dok_matrix, csr_matrix, triu, tril\n",
    "from random import randint\n",
    "from tqdm.notebook import tqdm"
   ]
  },
  {
   "cell_type": "markdown",
   "id": "66ec2c24",
   "metadata": {},
   "source": [
    "## Functions"
   ]
  },
  {
   "cell_type": "code",
   "execution_count": 3,
   "id": "4d999829",
   "metadata": {},
   "outputs": [],
   "source": [
    "################################################# Problem 2.1 ##################################################################\n",
    "def distributionBin(x: 'input data',\n",
    "                    B: 'number of bins'\n",
    "                   ):\n",
    "    \n",
    "    \"\"\"\n",
    "    :param x: (list) list of real-valued integers interpreted as the input data sampled from a presumed heavy-tail distribution\n",
    "    :param B: (positive int) number of log-scaled bins to create a histogram from x\n",
    "    \n",
    "    distributionBin: Tuple, int -> Tuple, Tuple[Float] \n",
    "    \n",
    "    distributionBin takes a list of input data :x: assumed to be sampled from some heavy-tailed distribution and bins in :B: log\n",
    "    sized bins in such a way that the output function *integrates* to 1. The output is a list of bin-midpoints X and the binned\n",
    "    estimated distribution values Y. \n",
    "    \"\"\"\n",
    "    \n",
    "    xmin = min(x)\n",
    "    xmax = max(x)\n",
    "    \n",
    "    # creating the B+1 bin edges\n",
    "    bin_edges = np.logspace(np.log10(xmin), np.log10(xmax), num=B+1)\n",
    "    \n",
    "    # using numpy's histogram function get distributions\n",
    "    density, _ = np.histogram(x, bins=bin_edges, density=True)\n",
    "    \n",
    "    # obtaining bin midpoints for cleaner absciss\n",
    "    log_be = np.log10(bin_edges)\n",
    "    xout = 10**((log_be[1:] + log_be[:-1])/2)\n",
    "    \n",
    "    return xout, density"
   ]
  },
  {
   "cell_type": "code",
   "execution_count": 4,
   "id": "bc9efc09",
   "metadata": {},
   "outputs": [],
   "source": [
    "################################################# Problem 2.2 ##################################################################\n",
    "def functionBin(x: 'preimage',\n",
    "                y: 'function output for some function y | y_i=y(x)',\n",
    "                B: 'number of bins'\n",
    "               ):\n",
    "    \n",
    "    \"\"\"\n",
    "    :param x: (list) list of real-valued numbers interpreted as the preimage of the function y(x)\n",
    "    :param y: (list) list of real-valued numbers interpreted as the values of function y applied to each input value in x\n",
    "    :param B: (positive int) number of log-scaled bins to create a histogram \n",
    "    \n",
    "    functionBin: Tuple, Tuple, int -> Tuple, Tuple\n",
    "    \n",
    "    functionBin takes an ordered list of sampled input values :x: and their corresponding outputs under some function :y: (\n",
    "    i.e. y(x)) and bins the input values into :B: log sized bins, averaging the output values within each bin. The output is \n",
    "    the bin-midpoints X and the binned outputs. \n",
    "    \n",
    "    \"\"\"\n",
    "    \n",
    "    xmin = min(x)\n",
    "    xmax = max(x)\n",
    "    \n",
    "    # creating the B+1 bin edges\n",
    "    bin_edges = np.logspace(np.log10(xmin), np.log10(xmax), num=B+1)\n",
    "    \n",
    "    # obtaining bin midpoints for cleaner absciss\n",
    "    log_be = np.log10(bin_edges)\n",
    "    bm = 10**((log_be[1:] + log_be[:-1])/2)\n",
    "    \n",
    "    # creating (input, output) pairs and sorting by input value\n",
    "    fpairs = list(zip(x,y))\n",
    "    fpairs.sort(key=lambda x: x[0])\n",
    "    \n",
    "    # creating (label, boundary) pairs using midpoint and right boundary for each bin\n",
    "    mid_redge_pairs = list(zip(bm, bin_edges[1:]))\n",
    "    \n",
    "    # dictionary of values where key corresponds to the bin and values are those which fit in the bin \n",
    "    bin_out_list = defaultdict(list)\n",
    "    \n",
    "    idx = 0\n",
    "    for mid, redge in tqdm(mid_redge_pairs, desc='Binning Function'):\n",
    "        while (fpairs[idx][0] < redge) & (idx < len(fpairs)-1):\n",
    "            bin_out_list[mid].append(fpairs[idx])\n",
    "            idx += 1\n",
    "    \n",
    "    # adding the last value\n",
    "    bin_out_list[list(bin_out_list.keys())[-1]].append(fpairs[-1])\n",
    "    \n",
    "    xout = list(bin_out_list.keys())\n",
    "    \n",
    "    # y value is the average of each bin\n",
    "    yout = [mean([i[1] for i in b]) for b in bin_out_list.values()]\n",
    "    \n",
    "    return xout, yout"
   ]
  },
  {
   "cell_type": "code",
   "execution_count": 5,
   "id": "b842b009",
   "metadata": {},
   "outputs": [],
   "source": [
    "################################################# Problem 2.3 ##################################################################\n",
    "def simpleSF(n: 'graph size' = 10**4,\n",
    "             s: 'number of samples' = 10, \n",
    "             sparse: 'choice of numpy vs. scipy sparse matrix' = False\n",
    "            ):\n",
    "    \n",
    "    \"\"\"\n",
    "    :param n: (positive int) total number of nodes in the desired graph after completing its percolation \n",
    "    :param s: (positive int) total number of graphs created\n",
    "    :param sparse: (boolean) False maps output to dense numpy ndarrays, True maps them to scipy sparse csr_matrix\n",
    "    \n",
    "    simpleSF: Int, Int, Bool -> Tuple[np.ndarray OR scipy.sparse.csr_matrix] \n",
    "    \n",
    "    simpleSF takes a value for the size of the graph :n: and the number of samples :s: and percolates :s: scale-free graphs of \n",
    "    size :n: by randomly selecting an edge E := (i,j) and attaching new incoming nodes to both i and j. The output is a list of \n",
    "    :s: :n: x :n: matrices which act as the adjacency matrix of each sample graph. Choosing scipy sparse matrix allows for \n",
    "    larger graph sizes. \n",
    "    \"\"\"\n",
    "    \n",
    "    outlist = list()\n",
    "    pbar = tqdm(range(s), desc=f\"Generating Samples\")\n",
    "    \n",
    "    for i in pbar:\n",
    "    \n",
    "        # edgelist\n",
    "        edgelist = {(0,1)}\n",
    "        \n",
    "        # selecting a random edge and making the incident nodes the fruits of an incoming cherry to create a triangle \n",
    "        # process repeats until t == n \n",
    "        t = 2\n",
    "        while t < n:\n",
    "            m = randint(0, len(edgelist)-1)\n",
    "            i,j = list(edgelist)[m]\n",
    "            edgelist = edgelist | {(i, t), (j, t)}\n",
    "            t += 1\n",
    "            \n",
    "        # mapping corresponding matrix values for all pairs in edgelist from 0 -> 1\n",
    "        if sparse:\n",
    "            A = dok_matrix((n, n), dtype=int)\n",
    "            for e in edgelist:\n",
    "                A[e] = 1\n",
    "\n",
    "            # currently only have upper triangle, so making the matrix symmetric about the main diagonal \n",
    "            # triu and tril authomatically change it from dok_matrix to csr_matrix\n",
    "            A = triu(A) + tril(A.T)\n",
    "\n",
    "        else:\n",
    "            A = np.zeros((n,n))\n",
    "            for e in edgelist:\n",
    "                A[e] = 1\n",
    "\n",
    "            # currently only have upper triangle, so making the matrix symmetric about the main diagonal\n",
    "            A = np.triu(A) + np.tril(A.T)\n",
    "            \n",
    "        outlist.append(A)\n",
    "            \n",
    "    return outlist\n",
    "    \n",
    "    "
   ]
  },
  {
   "cell_type": "markdown",
   "id": "bf887dbc",
   "metadata": {},
   "source": [
    "## Tests"
   ]
  },
  {
   "cell_type": "code",
   "execution_count": 6,
   "id": "298482b4",
   "metadata": {},
   "outputs": [],
   "source": [
    "import networkx as nx\n",
    "import itertools"
   ]
  },
  {
   "cell_type": "code",
   "execution_count": 7,
   "id": "582fd550",
   "metadata": {},
   "outputs": [
    {
     "data": {
      "application/vnd.jupyter.widget-view+json": {
       "model_id": "204ea0abb1d9448ca4a9d05ea151a86f",
       "version_major": 2,
       "version_minor": 0
      },
      "text/plain": [
       "Generating Samples:   0%|          | 0/10 [00:00<?, ?it/s]"
      ]
     },
     "metadata": {},
     "output_type": "display_data"
    },
    {
     "data": {
      "application/vnd.jupyter.widget-view+json": {
       "model_id": "0d99d99c948b4be89ab710814933a3cb",
       "version_major": 2,
       "version_minor": 0
      },
      "text/plain": [
       "Binning Function:   0%|          | 0/20 [00:00<?, ?it/s]"
      ]
     },
     "metadata": {},
     "output_type": "display_data"
    },
    {
     "data": {
      "application/vnd.jupyter.widget-view+json": {
       "model_id": "52086bdafa4340bfa6d1a0c1fc355b28",
       "version_major": 2,
       "version_minor": 0
      },
      "text/plain": [
       "Binning Function:   0%|          | 0/20 [00:00<?, ?it/s]"
      ]
     },
     "metadata": {},
     "output_type": "display_data"
    },
    {
     "data": {
      "image/png": "[encoded data removed]",
      "text/plain": [
       "<Figure size 720x288 with 3 Axes>"
      ]
     },
     "metadata": {
      "needs_background": "light"
     },
     "output_type": "display_data"
    }
   ],
   "source": [
    "################################################# Problem 2.4 ##################################################################\n",
    "\n",
    "# creating graph ensemble G \n",
    "G = simpleSF(sparse=True)\n",
    "\n",
    "# setting number of bins\n",
    "num_bins = 20\n",
    "\n",
    "# preparing the plots\n",
    "\n",
    "fig, axs = plt.subplots(1, 3)\n",
    "\n",
    "################ plotting degree distribution #################### \n",
    "degrees = list()\n",
    "for g in G: \n",
    "    # compressing ensemble by concatenating all degrees of all graphs into one degree sequence\n",
    "    degrees.extend(g.sum(axis=0).tolist()[0])\n",
    "    \n",
    "    \n",
    "# binning into :num_bins: bins using function from 2.1  \n",
    "dist_x, dist_y = distributionBin(degrees, num_bins)\n",
    "\n",
    "# plotting\n",
    "axs[0].loglog(dist_x, dist_y, 'o', color='brown')\n",
    "axs[0].set_title('Degree Distribution')\n",
    "axs[0].set_ylabel(r'$P[X=k]$')\n",
    "axs[0].set_xlabel(r'$k$')\n",
    "\n",
    "################ plotting avg. clustering #################### \n",
    "\n",
    "# using networkx to get average clustering and average neighbor degree\n",
    "indexed_node_degrees = list()\n",
    "indexed_clustering = list()\n",
    "indexed_average_degree = list()\n",
    "\n",
    "for g in G: \n",
    "    # this needs to be np.from_numpy_matrix if not sparse \n",
    "    graph = nx.from_scipy_sparse_array(g)\n",
    "    for node in graph.nodes:\n",
    "        indexed_node_degrees.append(graph.degree(node))\n",
    "        indexed_clustering.append(nx.clustering(graph, nodes=[node])[node])\n",
    "        indexed_average_degree.append(nx.average_neighbor_degree(graph, nodes=[node])[node])\n",
    "    \n",
    "# Using the function from 2.2 to plot these values\n",
    "c_x, c_y = functionBin(indexed_node_degrees, indexed_clustering, num_bins)\n",
    "kk_x, kk_y = functionBin(indexed_node_degrees, indexed_average_degree, num_bins)\n",
    "    \n",
    "axs[1].loglog(c_x, c_y, 'o', color='orange')\n",
    "axs[1].set_title('Average Clustering Coefficient')\n",
    "axs[1].set_xlabel(r'$k$')\n",
    "axs[1].set_ylabel(r'$\\bar{c}(k)$')\n",
    "\n",
    "axs[2].loglog(kk_x, kk_y, 'o', color='green')\n",
    "axs[2].set_title('Average Neighbor Degree')\n",
    "axs[2].set_xlabel(r'$k$')\n",
    "axs[2].set_ylabel(r'$\\bar{k}_{nn}(k)$')\n",
    "\n",
    "fig.set_size_inches(10, 4, forward=True)\n",
    "fig.tight_layout()"
   ]
  },
  {
   "cell_type": "code",
   "execution_count": null,
   "id": "eae475c2",
   "metadata": {},
   "outputs": [],
   "source": []
  }
 ],
 "metadata": {
  "kernelspec": {
   "display_name": "Python 3 (ipykernel)",
   "language": "python",
   "name": "python3"
  },
  "language_info": {
   "codemirror_mode": {
    "name": "ipython",
    "version": 3
   },
   "file_extension": ".py",
   "mimetype": "text/x-python",
   "name": "python",
   "nbconvert_exporter": "python",
   "pygments_lexer": "ipython3",
   "version": "3.9.12"
  }
 },
 "nbformat": 4,
 "nbformat_minor": 5
}
